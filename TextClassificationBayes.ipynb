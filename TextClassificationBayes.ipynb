{
 "cells": [
  {
   "cell_type": "code",
   "execution_count": 68,
   "metadata": {
    "collapsed": true
   },
   "outputs": [],
   "source": [
    "import numpy as np\n",
    "import scipy as sc\n",
    "import os, re\n",
    "import matplotlib.pyplot as plt\n",
    "from prettyprint import pp\n",
    "from sklearn.feature_extraction.text import CountVectorizer, TfidfTransformer\n",
    "from sklearn.cross_validation import train_test_split, KFold, cross_val_score\n",
    "from sklearn.naive_bayes import BernoulliNB, GaussianNB, MultinomialNB\n",
    "from sklearn.metrics import confusion_matrix, f1_score, accuracy_score, precision_score, recall_score, classification_report\n",
    "from datetime import datetime as dt\n",
    "from ipy_table import *\n",
    "from string import punctuation, digits"
   ]
  },
  {
   "cell_type": "code",
   "execution_count": 69,
   "metadata": {
    "collapsed": true
   },
   "outputs": [],
   "source": [
    "data_path = '/Users/alexandre/Projects/TextClassificationBayes/tok_vnexpress/'\n",
    "stopwords_path = '/Users/alexandre/Projects/TextClassificationBayes/vietnamese-stopwords-dash.txt'\n",
    "\n",
    "#Classes are the folder names\n",
    "class_names = os.listdir(data_path)\n",
    "folders =  [data_path + folder + '/' for folder in os.listdir(data_path) if folder != \".DS_Store\"]\n",
    "\n",
    "if '.DS_Store' in class_names: del class_names[0]\n",
    "\n",
    "\n",
    "#list the files of each class\n",
    "files = {}\n",
    "\n",
    "for folder, name in zip(folders, class_names):\n",
    "    files[name] = [folder + f for f in os.listdir(folder)]\n",
    "    \n",
    "train_test_ratio = 0.6"
   ]
  },
  {
   "cell_type": "code",
   "execution_count": 70,
   "metadata": {
    "collapsed": true
   },
   "outputs": [],
   "source": [
    "def train_test_split(ratio, classes, files):\n",
    "   \n",
    "    train_dict = {}\n",
    "    test_dict = {}\n",
    "    for cl in classes:\n",
    "        train_cnt = int(ratio * len(files[cl]))\n",
    "        train_dict[cl] = files[cl][:train_cnt]\n",
    "        test_dict[cl] = files[cl][train_cnt:]\n",
    "    return train_dict, test_dict\n",
    "\n",
    "\n",
    "train_path, test_path = train_test_split(train_test_ratio, class_names, files)\n",
    "stop_word = []\n",
    "\n",
    "def loadStopWord(path):\n",
    "\n",
    "    from string import punctuation, digits\n",
    "    stop_word = []\n",
    "    try:\n",
    "        f = open(path)\n",
    "        lines = [line.rstrip('\\n') for line in open(path)]\n",
    "        lines = [line.replace(' ', '_') for line in lines]\n",
    "            \n",
    "    finally:\n",
    "        f.close()\n",
    "    return lines\n",
    "\n",
    "stop_word = loadStopWord(stopwords_path)\n",
    "\n",
    "\n",
    "def cleanupText(path):\n",
    "\n",
    "    text_cleaned = ''\n",
    "    stop_word = loadStopWord(stopwords_path)\n",
    "    \n",
    "    try:\n",
    "        f = open(path)\n",
    "        raw = f.read().lower()\n",
    "        text =  raw   \n",
    "        text_cleaned = re.sub(r'[-.?!,\":;()/|0-9]','', text)\n",
    "        \n",
    "        splitword = text_cleaned.split(\" \")\n",
    "        \n",
    "        for word in splitword:\n",
    "            if word in stop_word:\n",
    "                splitword.remove(word)\n",
    "        text_cleaned = \" \".join(splitword)\n",
    "#        # print \"\\n Word count after:\" + str(len(text_translated.split())) + \"\\n\"\n",
    "#        text_cleaned = ' '.join([word for word in text_cleaned.split(' ') if (word and len(word) > 1)])\n",
    "    finally:\n",
    "        f.close()\n",
    "    return text_cleaned"
   ]
  },
  {
   "cell_type": "code",
   "execution_count": 71,
   "metadata": {
    "collapsed": false
   },
   "outputs": [
    {
     "name": "stdout",
     "output_type": "stream",
     "text": [
      "Train size:28488\n",
      "Test  size:18999\n"
     ]
    }
   ],
   "source": [
    "train_arr = []\n",
    "test_arr = []\n",
    "train_lbl = []\n",
    "test_lbl = []\n",
    "\n",
    "\n",
    "for cl in class_names:\n",
    "    for path in train_path[cl]:\n",
    "        train_arr.append(cleanupText(path))\n",
    "        train_lbl.append(cl)\n",
    "    for path in test_path[cl]:\n",
    "        test_arr.append(cleanupText(path))\n",
    "        test_lbl.append(cl)\n",
    "        \n",
    "print \"Train size:\" + str(len(train_arr))\n",
    "print \"Test  size:\" + str(len(test_arr))"
   ]
  },
  {
   "cell_type": "code",
   "execution_count": 72,
   "metadata": {
    "collapsed": false
   },
   "outputs": [
    {
     "name": "stdout",
     "output_type": "stream",
     "text": [
      "(28488, 120824)\n",
      "(18999, 120824)\n"
     ]
    }
   ],
   "source": [
    "vectorizer = CountVectorizer()\n",
    "vectorizer.fit(train_arr)\n",
    "train_mat = vectorizer.transform(train_arr)\n",
    "print train_mat.shape\n",
    "\n",
    "test_mat = vectorizer.transform(test_arr)\n",
    "print test_mat.shape\n",
    "\n",
    "#tfidf = TfidfTransformer()\n",
    "#tfidf.fit(train_mat)\n",
    "#train_tfmat = tfidf.transform(train_mat)\n",
    "#print train_tfmat.shape\n",
    "#print train_tfmat\n",
    "#test_tfmat = tfidf.transform(test_mat)\n",
    "#print test_tfmat.shape"
   ]
  },
  {
   "cell_type": "code",
   "execution_count": 73,
   "metadata": {
    "collapsed": true
   },
   "outputs": [],
   "source": [
    "def testClassifier(x_train, y_train, x_test, y_test, clf):\n",
    "    \n",
    " \n",
    "    start = dt.now()\n",
    "    clf.fit(x_train, y_train)\n",
    "    end = dt.now()\n",
    "    print 'training time: ', (end - start)\n",
    "\n",
    "    \n",
    "    start = dt.now()\n",
    "    yhat = clf.predict(x_test)\n",
    "    end = dt.now()\n",
    "    print 'testing time: ', (end - start)\n",
    "    \n",
    "    print 'classification report: '\n",
    "\n",
    "    pp(classification_report(y_test, yhat))\n",
    "    \n",
    "    print 'f1 score'\n",
    "    print f1_score(y_test, yhat, average='macro')\n",
    "    \n",
    "    print 'accuracy score'\n",
    "    accuracy = accuracy_score(y_test, yhat)\n",
    "    print accuracy\n",
    " \n",
    "    print 'confusion matrix:'\n",
    "    print confusion_matrix(y_test, yhat)\n",
    "    \n",
    "    # plot the confusion matrix\n",
    "    plt.imshow(confusion_matrix(y_test, yhat), interpolation='nearest')\n",
    "    plt.show()\n",
    "    \n",
    "    return accuracy\n",
    "\n",
    "\n",
    "\n"
   ]
  },
  {
   "cell_type": "code",
   "execution_count": 74,
   "metadata": {
    "collapsed": true
   },
   "outputs": [],
   "source": [
    "metrics_dict = {}"
   ]
  },
  {
   "cell_type": "code",
   "execution_count": 75,
   "metadata": {
    "collapsed": false
   },
   "outputs": [
    {
     "name": "stdout",
     "output_type": "stream",
     "text": [
      "Cross validation score for MultinomialNB \n",
      "[ 0.91365391  0.91435591  0.91365391  0.91540892  0.91611092  0.90698491\n",
      "  0.91119691  0.91505792  0.90941011  0.91292135]\n",
      "Accuracy: 0.91 (+/- 0.01)\n"
     ]
    }
   ],
   "source": [
    "mnb = MultinomialNB(alpha=0.01)\n",
    "k_fold = KFold(len(train_lbl), n_folds=10, shuffle=True, random_state=0)\n",
    "cross = cross_val_score(mnb, train_mat, train_lbl, cv=k_fold, n_jobs=1)\n",
    "print \"Cross validation score for MultinomialNB \" \n",
    "print cross\n",
    "\n",
    "print \"Accuracy: %0.2f (+/- %0.2f)\" % (cross.mean(), cross.std() * 2)"
   ]
  },
  {
   "cell_type": "code",
   "execution_count": 76,
   "metadata": {
    "collapsed": false
   },
   "outputs": [
    {
     "name": "stdout",
     "output_type": "stream",
     "text": [
      "Cross validation score for BernoulliNB\n",
      "[ 0.86451386  0.87118287  0.86802387  0.88346788  0.87539488  0.85538786\n",
      "  0.86416286  0.86170586  0.87148876  0.86130618]\n",
      "Accuracy: 0.87 (+/- 0.02)\n"
     ]
    }
   ],
   "source": [
    "bnb = BernoulliNB(alpha=0.01)\n",
    "k_fold = KFold(len(train_lbl), n_folds=10, shuffle=True, random_state=0)\n",
    "cross = cross_val_score(bnb, train_mat, train_lbl, cv=k_fold, n_jobs=1)\n",
    "print \"Cross validation score for BernoulliNB\" \n",
    "print cross\n",
    "print \"Accuracy: %0.2f (+/- %0.2f)\" % (cross.mean(), cross.std() * 2)"
   ]
  },
  {
   "cell_type": "code",
   "execution_count": 77,
   "metadata": {
    "collapsed": false
   },
   "outputs": [
    {
     "name": "stdout",
     "output_type": "stream",
     "text": [
      "alpha= =1\n",
      "training time:  0:00:00.125388\n",
      "testing time:  0:00:00.048993\n",
      "classification report: \n",
      "\"             precision    recall  f1-score   support\n",
      "\n",
      "    du-lich       0.84      0.86      0.85      1578\n",
      "   giai-tri       0.92      0.97      0.95      1830\n",
      "   giao-duc       0.90      0.86      0.88      1687\n",
      "   khoa-hoc       0.90      0.88      0.89      1760\n",
      " kinh-doanh       0.79      0.89      0.84      1800\n",
      " oto-xe-may       0.98      0.90      0.94      1682\n",
      "  phap-luat       0.89      0.90      0.89      1800\n",
      "     so-hoa       0.94      0.83      0.88      1610\n",
      "   the-gioi       0.89      0.93      0.91      1792\n",
      "   the-thao       0.99      0.98      0.99      1830\n",
      "    thoi-su       0.80      0.81      0.80      1630\n",
      "\n",
      "avg / total       0.90      0.89      0.89     18999\n",
      "\"\n",
      "f1 score\n",
      "0.892622335568\n",
      "accuracy score\n",
      "0.893731249013\n",
      "confusion matrix:\n",
      "[[1355   19    6   58   44    0   10    3   44    0   39]\n",
      " [  10 1779   12    4    8    0    3    2   10    0    2]\n",
      " [  22   44 1454   43   32    2   24   13   10    3   40]\n",
      " [  37   10   40 1554   30   10    2   20   37    1   19]\n",
      " [  34    8   32    3 1595    1   11   37   12    2   65]\n",
      " [  18    6    9   15   38 1509   25    5   14    3   40]\n",
      " [   2    9    9    0   47    8 1624    0    3    0   98]\n",
      " [  48   21   25   23   65    1   30 1335   54    4    4]\n",
      " [  27   10    7   19   33    1   13    2 1661    4   15]\n",
      " [   0   12    1    1    1    0    1    0   11 1801    2]\n",
      " [  57    6   19    7  116    3   92    2   15    0 1313]]\n"
     ]
    },
    {
     "data": {
      "image/png": "[encoded data removed]",
      "text/plain": [
       "<matplotlib.figure.Figure at 0x10daed890>"
      ]
     },
     "metadata": {},
     "output_type": "display_data"
    },
    {
     "name": "stdout",
     "output_type": "stream",
     "text": [
      "alpha= =0.75\n",
      "training time:  0:00:00.140139\n",
      "testing time:  0:00:00.052240\n",
      "classification report: \n",
      "\"             precision    recall  f1-score   support\n",
      "\n",
      "    du-lich       0.84      0.86      0.85      1578\n",
      "   giai-tri       0.93      0.97      0.95      1830\n",
      "   giao-duc       0.90      0.86      0.88      1687\n",
      "   khoa-hoc       0.90      0.89      0.89      1760\n",
      " kinh-doanh       0.81      0.88      0.84      1800\n",
      " oto-xe-may       0.98      0.91      0.94      1682\n",
      "  phap-luat       0.88      0.91      0.90      1800\n",
      "     so-hoa       0.94      0.83      0.88      1610\n",
      "   the-gioi       0.89      0.93      0.91      1792\n",
      "   the-thao       0.99      0.98      0.99      1830\n",
      "    thoi-su       0.80      0.81      0.81      1630\n",
      "\n",
      "avg / total       0.90      0.90      0.90     18999\n",
      "\"\n",
      "f1 score\n",
      "0.894108918045\n",
      "accuracy score\n",
      "0.895310279488\n",
      "confusion matrix:\n",
      "[[1351   19    6   63   42    0   10    2   45    0   40]\n",
      " [  10 1779   12    4    7    0    3    3   10    0    2]\n",
      " [  22   44 1454   43   31    2   23   13   10    3   42]\n",
      " [  37    9   39 1562   26   12    2   17   36    1   19]\n",
      " [  37    8   33    4 1583    2   11   38   13    2   69]\n",
      " [  15    6    8   14   34 1526   24    5   12    3   35]\n",
      " [   2    9    9    0   39    8 1631    0    3    0   99]\n",
      " [  46   20   25   24   64    1   31 1337   54    4    4]\n",
      " [  27   11    7   19   29    1   12    2 1667    3   14]\n",
      " [   0   11    1    1    1    0    1    0   11 1802    2]\n",
      " [  57    6   18    7  108    3   96    2   15    0 1318]]\n"
     ]
    },
    {
     "data": {
      "image/png": "[encoded data removed]",
      "text/plain": [
       "<matplotlib.figure.Figure at 0x112fffa10>"
      ]
     },
     "metadata": {},
     "output_type": "display_data"
    },
    {
     "name": "stdout",
     "output_type": "stream",
     "text": [
      "alpha= =0.5\n",
      "training time:  0:00:00.148180\n",
      "testing time:  0:00:00.053244\n",
      "classification report: \n",
      "\"             precision    recall  f1-score   support\n",
      "\n",
      "    du-lich       0.84      0.85      0.85      1578\n",
      "   giai-tri       0.93      0.97      0.95      1830\n",
      "   giao-duc       0.90      0.86      0.88      1687\n",
      "   khoa-hoc       0.89      0.89      0.89      1760\n",
      " kinh-doanh       0.82      0.87      0.84      1800\n",
      " oto-xe-may       0.98      0.92      0.95      1682\n",
      "  phap-luat       0.89      0.91      0.90      1800\n",
      "     so-hoa       0.94      0.84      0.89      1610\n",
      "   the-gioi       0.89      0.93      0.91      1792\n",
      "   the-thao       0.99      0.99      0.99      1830\n",
      "    thoi-su       0.81      0.82      0.81      1630\n",
      "\n",
      "avg / total       0.90      0.90      0.90     18999\n",
      "\"\n",
      "f1 score\n",
      "0.896394036995\n",
      "accuracy score\n",
      "0.897678825201\n",
      "confusion matrix:\n",
      "[[1347   19    6   66   41    1   10    2   46    0   40]\n",
      " [  10 1779   12    4    7    0    3    3   10    0    2]\n",
      " [  23   42 1454   45   30    2   23   13   10    3   42]\n",
      " [  38    5   37 1570   26   14    2   16   34    1   17]\n",
      " [  39    8   33    5 1563    6   11   43   15    2   75]\n",
      " [  11    6    7   13   29 1549   22    4   12    2   27]\n",
      " [   2    8    9    0   34    8 1639    0    3    0   97]\n",
      " [  46   21   25   24   55    1   30 1347   53    4    4]\n",
      " [  24   11    7   21   23    1   12    2 1674    3   14]\n",
      " [   0   10    1    1    1    0    1    0   11 1803    2]\n",
      " [  57    6   17    8   96    3   96    2   15    0 1330]]\n"
     ]
    },
    {
     "data": {
      "image/png": "[encoded data removed]",
      "text/plain": [
       "<matplotlib.figure.Figure at 0x109d61c50>"
      ]
     },
     "metadata": {},
     "output_type": "display_data"
    },
    {
     "name": "stdout",
     "output_type": "stream",
     "text": [
      "alpha= =0.25\n",
      "training time:  0:00:00.126542\n",
      "testing time:  0:00:00.053147\n",
      "classification report: \n",
      "\"             precision    recall  f1-score   support\n",
      "\n",
      "    du-lich       0.84      0.85      0.85      1578\n",
      "   giai-tri       0.93      0.97      0.95      1830\n",
      "   giao-duc       0.90      0.86      0.88      1687\n",
      "   khoa-hoc       0.89      0.89      0.89      1760\n",
      " kinh-doanh       0.83      0.86      0.85      1800\n",
      " oto-xe-may       0.98      0.93      0.95      1682\n",
      "  phap-luat       0.89      0.91      0.90      1800\n",
      "     so-hoa       0.94      0.84      0.89      1610\n",
      "   the-gioi       0.89      0.94      0.91      1792\n",
      "   the-thao       0.99      0.99      0.99      1830\n",
      "    thoi-su       0.80      0.82      0.81      1630\n",
      "\n",
      "avg / total       0.90      0.90      0.90     18999\n",
      "\"\n",
      "f1 score\n",
      "0.89781520612\n",
      "accuracy score\n",
      "0.899152586978\n",
      "confusion matrix:\n",
      "[[1344   19    5   72   39    1    9    2   45    0   42]\n",
      " [  10 1778   13    4    6    0    3    5    9    0    2]\n",
      " [  22   39 1456   46   29    2   25   12    8    3   45]\n",
      " [  38    3   37 1572   25   16    2   16   32    1   18]\n",
      " [  39    8   34    5 1553    7   12   42   18    1   81]\n",
      " [  11    5    7   11   22 1569   20    3   11    2   21]\n",
      " [   2    7   10    0   29    9 1642    0    3    0   98]\n",
      " [  48   21   24   23   52    1   28 1354   51    4    4]\n",
      " [  23   11    8   21   21    1   12    2 1677    3   13]\n",
      " [   1   10    1    1    1    0    1    0   11 1803    1]\n",
      " [  55    6   19    9   89    3   98    2   14    0 1335]]\n"
     ]
    },
    {
     "data": {
      "image/png": "[encoded data removed]",
      "text/plain": [
       "<matplotlib.figure.Figure at 0x10af1bc50>"
      ]
     },
     "metadata": {},
     "output_type": "display_data"
    },
    {
     "name": "stdout",
     "output_type": "stream",
     "text": [
      "alpha= =0.1\n",
      "training time:  0:00:00.123759\n",
      "testing time:  0:00:00.051225\n",
      "classification report: \n",
      "\"             precision    recall  f1-score   support\n",
      "\n",
      "    du-lich       0.84      0.85      0.85      1578\n",
      "   giai-tri       0.93      0.97      0.95      1830\n",
      "   giao-duc       0.91      0.86      0.88      1687\n",
      "   khoa-hoc       0.89      0.89      0.89      1760\n",
      " kinh-doanh       0.84      0.86      0.85      1800\n",
      " oto-xe-may       0.97      0.94      0.95      1682\n",
      "  phap-luat       0.89      0.92      0.90      1800\n",
      "     so-hoa       0.94      0.84      0.89      1610\n",
      "   the-gioi       0.89      0.94      0.92      1792\n",
      "   the-thao       0.99      0.99      0.99      1830\n",
      "    thoi-su       0.81      0.82      0.82      1630\n",
      "\n",
      "avg / total       0.90      0.90      0.90     18999\n",
      "\"\n",
      "f1 score\n",
      "0.899576464182\n",
      "accuracy score\n",
      "0.900994789199\n",
      "confusion matrix:\n",
      "[[1348   18    5   73   37    1    7    2   45    0   42]\n",
      " [  10 1782   11    4    4    1    2    5    9    0    2]\n",
      " [  23   39 1450   45   29    2   28   12    8    3   48]\n",
      " [  41    3   33 1575   23   18    1   16   33    1   16]\n",
      " [  40    8   34    4 1550   10   13   41   18    1   81]\n",
      " [  11    5    7   12   18 1576   18    3   12    2   18]\n",
      " [   2    5   10    0   26    9 1648    0    3    0   97]\n",
      " [  48   22   26   23   50    3   25 1359   50    2    2]\n",
      " [  24   10    8   21   20    2    9    2 1682    3   11]\n",
      " [   1   10    2    1    1    0    0    0   10 1805    0]\n",
      " [  55    6   16    8   83    3  100    2   14    0 1343]]\n"
     ]
    },
    {
     "data": {
      "image/png": "[encoded data removed]",
      "text/plain": [
       "<matplotlib.figure.Figure at 0x101ee4790>"
      ]
     },
     "metadata": {},
     "output_type": "display_data"
    },
    {
     "name": "stdout",
     "output_type": "stream",
     "text": [
      "alpha= =0.075\n",
      "training time:  0:00:00.121640\n",
      "testing time:  0:00:00.050459\n",
      "classification report: \n",
      "\"             precision    recall  f1-score   support\n",
      "\n",
      "    du-lich       0.84      0.86      0.85      1578\n",
      "   giai-tri       0.94      0.97      0.95      1830\n",
      "   giao-duc       0.91      0.86      0.88      1687\n",
      "   khoa-hoc       0.89      0.89      0.89      1760\n",
      " kinh-doanh       0.84      0.86      0.85      1800\n",
      " oto-xe-may       0.97      0.94      0.95      1682\n",
      "  phap-luat       0.89      0.92      0.90      1800\n",
      "     so-hoa       0.94      0.85      0.89      1610\n",
      "   the-gioi       0.89      0.94      0.92      1792\n",
      "   the-thao       0.99      0.99      0.99      1830\n",
      "    thoi-su       0.81      0.83      0.82      1630\n",
      "\n",
      "avg / total       0.90      0.90      0.90     18999\n",
      "\"\n",
      "f1 score\n",
      "0.900548827693\n",
      "accuracy score\n",
      "0.901942207485\n",
      "confusion matrix:\n",
      "[[1352   18    5   72   38    1    7    2   45    0   38]\n",
      " [  10 1784   10    4    4    1    2    5    8    0    2]\n",
      " [  23   38 1449   45   28    2   28   12    9    3   50]\n",
      " [  42    3   31 1575   23   18    1   17   33    1   16]\n",
      " [  40    8   35    4 1551   10   13   40   15    1   83]\n",
      " [  13    5    7   12   16 1577   17    3   12    2   18]\n",
      " [   2    5    9    0   26    9 1647    0    4    0   98]\n",
      " [  49   22   26   22   48    3   24 1362   50    2    2]\n",
      " [  25   10    8   22   20    2    9    2 1681    3   10]\n",
      " [   1   10    2    1    1    0    0    0    9 1806    0]\n",
      " [  54    5   16    7   81    3   97    2   13    0 1352]]\n"
     ]
    },
    {
     "data": {
      "image/png": "[encoded data removed]",
      "text/plain": [
       "<matplotlib.figure.Figure at 0x10f45fc10>"
      ]
     },
     "metadata": {},
     "output_type": "display_data"
    },
    {
     "name": "stdout",
     "output_type": "stream",
     "text": [
      "alpha= =0.05\n",
      "training time:  0:00:00.119375\n",
      "testing time:  0:00:00.056190\n",
      "classification report: \n",
      "\"             precision    recall  f1-score   support\n",
      "\n",
      "    du-lich       0.84      0.86      0.85      1578\n",
      "   giai-tri       0.93      0.98      0.95      1830\n",
      "   giao-duc       0.91      0.86      0.88      1687\n",
      "   khoa-hoc       0.89      0.89      0.89      1760\n",
      " kinh-doanh       0.84      0.86      0.85      1800\n",
      " oto-xe-may       0.97      0.94      0.95      1682\n",
      "  phap-luat       0.89      0.92      0.90      1800\n",
      "     so-hoa       0.94      0.85      0.89      1610\n",
      "   the-gioi       0.89      0.94      0.91      1792\n",
      "   the-thao       0.99      0.99      0.99      1830\n",
      "    thoi-su       0.81      0.83      0.82      1630\n",
      "\n",
      "avg / total       0.90      0.90      0.90     18999\n",
      "\"\n",
      "f1 score\n",
      "0.900616032568\n",
      "accuracy score\n",
      "0.901994841834\n",
      "confusion matrix:\n",
      "[[1356   17    5   72   37    1    7    2   45    0   36]\n",
      " [  10 1785   10    4    4    1    2    5    8    0    1]\n",
      " [  20   38 1448   44   28    2   29   12   11    3   52]\n",
      " [  43    4   32 1572   22   18    1   17   34    1   16]\n",
      " [  39    8   35    4 1552   10   14   39   14    1   84]\n",
      " [  16    6    6   10   17 1577   17    3   12    2   16]\n",
      " [   2    6    8    0   26    9 1649    0    3    0   97]\n",
      " [  50   22   26   22   48    2   23 1361   52    2    2]\n",
      " [  28   10    8   22   21    2    9    2 1677    3   10]\n",
      " [   1    9    2    1    1    0    0    0    8 1808    0]\n",
      " [  52    5   15    7   83    3   98    2   13    0 1352]]\n"
     ]
    },
    {
     "data": {
      "image/png": "[encoded data removed]",
      "text/plain": [
       "<matplotlib.figure.Figure at 0x10a9c1590>"
      ]
     },
     "metadata": {},
     "output_type": "display_data"
    },
    {
     "name": "stdout",
     "output_type": "stream",
     "text": [
      "alpha= =0.025\n",
      "training time:  0:00:00.133185\n",
      "testing time:  0:00:00.061212\n",
      "classification report: \n",
      "\"             precision    recall  f1-score   support\n",
      "\n",
      "    du-lich       0.84      0.86      0.85      1578\n",
      "   giai-tri       0.93      0.98      0.96      1830\n",
      "   giao-duc       0.91      0.86      0.88      1687\n",
      "   khoa-hoc       0.89      0.89      0.89      1760\n",
      " kinh-doanh       0.85      0.86      0.85      1800\n",
      " oto-xe-may       0.97      0.94      0.95      1682\n",
      "  phap-luat       0.89      0.92      0.90      1800\n",
      "     so-hoa       0.94      0.85      0.89      1610\n",
      "   the-gioi       0.89      0.94      0.91      1792\n",
      "   the-thao       0.99      0.99      0.99      1830\n",
      "    thoi-su       0.81      0.83      0.82      1630\n",
      "\n",
      "avg / total       0.90      0.90      0.90     18999\n",
      "\"\n",
      "f1 score\n",
      "0.900357594386\n",
      "accuracy score\n",
      "0.901731670088\n",
      "confusion matrix:\n",
      "[[1357   17    5   74   35    1    7    2   44    0   36]\n",
      " [  10 1787    8    4    4    1    2    5    8    0    1]\n",
      " [  21   37 1446   44   28    2   30   11   11    3   54]\n",
      " [  44    4   32 1568   22   17    1   17   36    1   18]\n",
      " [  38    9   35    4 1551    9   14   39   14    1   86]\n",
      " [  16    6    6   11   17 1575   17    3   12    2   17]\n",
      " [   3    6    8    0   25    9 1648    0    3    0   98]\n",
      " [  52   22   25   22   49    2   23 1361   50    2    2]\n",
      " [  27   10    7   23   22    2    8    2 1679    3    9]\n",
      " [   1    9    2    1    1    0    0    0    8 1808    0]\n",
      " [  53    5   15    7   81    3   99    2   13    0 1352]]\n"
     ]
    },
    {
     "data": {
      "image/png": "[encoded data removed]",
      "text/plain": [
       "<matplotlib.figure.Figure at 0x101ef2d10>"
      ]
     },
     "metadata": {},
     "output_type": "display_data"
    },
    {
     "name": "stdout",
     "output_type": "stream",
     "text": [
      "alpha= =0.01\n",
      "training time:  0:00:00.135982\n",
      "testing time:  0:00:00.044257\n",
      "classification report: \n",
      "\"             precision    recall  f1-score   support\n",
      "\n",
      "    du-lich       0.83      0.86      0.85      1578\n",
      "   giai-tri       0.93      0.98      0.95      1830\n",
      "   giao-duc       0.91      0.85      0.88      1687\n",
      "   khoa-hoc       0.89      0.89      0.89      1760\n",
      " kinh-doanh       0.84      0.86      0.85      1800\n",
      " oto-xe-may       0.97      0.94      0.95      1682\n",
      "  phap-luat       0.89      0.92      0.90      1800\n",
      "     so-hoa       0.94      0.84      0.89      1610\n",
      "   the-gioi       0.90      0.94      0.92      1792\n",
      "   the-thao       0.99      0.99      0.99      1830\n",
      "    thoi-su       0.81      0.83      0.82      1630\n",
      "\n",
      "avg / total       0.90      0.90      0.90     18999\n",
      "\"\n",
      "f1 score\n",
      "0.900470708622\n",
      "accuracy score\n",
      "0.901836938786\n",
      "confusion matrix:\n",
      "[[1363   17    5   70   34    1    5    2   44    0   37]\n",
      " [  11 1787    7    4    4    1    1    4    9    0    2]\n",
      " [  22   36 1442   44   27    2   32   11   12    3   56]\n",
      " [  46    5   33 1564   22   16    1   19   34    1   19]\n",
      " [  39   10   33    5 1551    9   14   37   13    1   88]\n",
      " [  17    6    5   13   18 1576   17    3   11    1   15]\n",
      " [   2    6    9    0   27    9 1647    1    3    0   96]\n",
      " [  54   24   25   22   51    2   20 1360   47    2    3]\n",
      " [  27   11    7   26   21    2    8    2 1680    3    5]\n",
      " [   1    9    2    1    1    0    0    0    6 1810    0]\n",
      " [  53    4   14    7   80    3   99    2   14    0 1354]]\n"
     ]
    },
    {
     "data": {
      "image/png": "[encoded data removed]",
      "text/plain": [
       "<matplotlib.figure.Figure at 0x10b82f9d0>"
      ]
     },
     "metadata": {},
     "output_type": "display_data"
    },
    {
     "name": "stdout",
     "output_type": "stream",
     "text": [
      "alpha= =0.001\n",
      "training time:  0:00:00.137840\n",
      "testing time:  0:00:00.049741\n",
      "classification report: \n",
      "\"             precision    recall  f1-score   support\n",
      "\n",
      "    du-lich       0.83      0.87      0.85      1578\n",
      "   giai-tri       0.93      0.98      0.95      1830\n",
      "   giao-duc       0.91      0.85      0.88      1687\n",
      "   khoa-hoc       0.89      0.88      0.89      1760\n",
      " kinh-doanh       0.84      0.86      0.85      1800\n",
      " oto-xe-may       0.97      0.93      0.95      1682\n",
      "  phap-luat       0.89      0.91      0.90      1800\n",
      "     so-hoa       0.94      0.85      0.89      1610\n",
      "   the-gioi       0.90      0.94      0.92      1792\n",
      "   the-thao       0.99      0.99      0.99      1830\n",
      "    thoi-su       0.80      0.83      0.82      1630\n",
      "\n",
      "avg / total       0.90      0.90      0.90     18999\n",
      "\"\n",
      "f1 score\n",
      "0.899495737788\n",
      "accuracy score\n",
      "0.900836886152\n",
      "confusion matrix:\n",
      "[[1365   22    5   67   35    1    3    2   41    0   37]\n",
      " [  13 1787    8    2    6    0    1    2    9    0    2]\n",
      " [  23   41 1430   42   26    2   38   11   13    3   58]\n",
      " [  48    6   32 1554   22   14    1   19   40    1   23]\n",
      " [  39   10   30    5 1554    9   15   37   13    1   87]\n",
      " [  18    6    5   13   19 1570   18    3   12    1   17]\n",
      " [   3    6    9    0   26   10 1645    1    3    0   97]\n",
      " [  54   25   26   21   53    2   16 1365   44    1    3]\n",
      " [  26   13    6   29   20    2    7    2 1678    3    6]\n",
      " [   1    8    2    1    1    0    0    0    4 1813    0]\n",
      " [  56    5   13    7   78    3   98    3   13    0 1354]]\n"
     ]
    },
    {
     "data": {
      "image/png": "[encoded data removed]",
      "text/plain": [
       "<matplotlib.figure.Figure at 0x10dada7d0>"
      ]
     },
     "metadata": {},
     "output_type": "display_data"
    },
    {
     "name": "stdout",
     "output_type": "stream",
     "text": [
      "alpha= =0.0001\n",
      "training time:  0:00:00.139417\n",
      "testing time:  0:00:00.056257\n",
      "classification report: \n",
      "\"             precision    recall  f1-score   support\n",
      "\n",
      "    du-lich       0.82      0.87      0.84      1578\n",
      "   giai-tri       0.92      0.98      0.95      1830\n",
      "   giao-duc       0.92      0.84      0.88      1687\n",
      "   khoa-hoc       0.90      0.87      0.88      1760\n",
      " kinh-doanh       0.84      0.87      0.85      1800\n",
      " oto-xe-may       0.97      0.93      0.95      1682\n",
      "  phap-luat       0.89      0.91      0.90      1800\n",
      "     so-hoa       0.94      0.85      0.89      1610\n",
      "   the-gioi       0.90      0.93      0.92      1792\n",
      "   the-thao       0.99      0.99      0.99      1830\n",
      "    thoi-su       0.80      0.83      0.81      1630\n",
      "\n",
      "avg / total       0.90      0.90      0.90     18999\n",
      "\"\n",
      "f1 score\n",
      "0.897261975158\n",
      "accuracy score\n",
      "0.898573609137\n",
      "confusion matrix:\n",
      "[[1368   21    6   64   34    1    2    3   41    0   38]\n",
      " [  13 1789    7    2    5    0    1    2    9    0    2]\n",
      " [  27   46 1417   40   25    2   41   12   14    3   60]\n",
      " [  53    7   32 1538   25   15    0   22   42    1   25]\n",
      " [  39   11   29    5 1562    6   12   35   10    1   90]\n",
      " [  21    6    5   15   21 1557   18    3   13    2   21]\n",
      " [   4    8    7    0   27    9 1637    1    3    0  104]\n",
      " [  57   26   25   19   54    2   15 1364   44    1    3]\n",
      " [  30   14    6   29   21    2    5    2 1674    3    6]\n",
      " [   2    7    3    0    1    0    0    0    5 1812    0]\n",
      " [  59    5   10    5   79    3  100    3   12    0 1354]]\n"
     ]
    },
    {
     "data": {
      "image/png": "[encoded data removed]",
      "text/plain": [
       "<matplotlib.figure.Figure at 0x10a471590>"
      ]
     },
     "metadata": {},
     "output_type": "display_data"
    }
   ],
   "source": [
    "#Tuning Parameter\n",
    "alpha=[1,0.75,0.5,0.25,0.1,0.075,0.05,0.025,0.01,0.001,0.0001]\n",
    "\n",
    "for a in alpha:\n",
    "    print \"alpha= =\" + str(a)\n",
    "    mnb = MultinomialNB(a)\n",
    "    mnb_me = testClassifier(train_mat, train_lbl, test_mat, test_lbl, mnb)\n",
    "    metrics_dict.update({a:mnb_me})\n"
   ]
  },
  {
   "cell_type": "code",
   "execution_count": 78,
   "metadata": {
    "collapsed": false
   },
   "outputs": [
    {
     "name": "stdout",
     "output_type": "stream",
     "text": [
      "(0.0001, 0.001, 0.01, 0.025, 0.05, 0.075, 0.1, 0.25, 0.5, 0.75, 1)\n",
      "(0.89857360913732298, 0.90083688615190272, 0.90183693878625193, 0.90173167008789934, 0.90199484183378076, 0.90194220748460441, 0.90099478919943154, 0.89915258697826206, 0.89767882520132636, 0.89531027948839415, 0.89373124901310597)\n"
     ]
    },
    {
     "data": {
      "image/png": "[encoded data removed]",
      "text/plain": [
       "<matplotlib.figure.Figure at 0x10daed590>"
      ]
     },
     "metadata": {},
     "output_type": "display_data"
    }
   ],
   "source": [
    "lists = sorted(metrics_dict.items()) # sorted by key, return a list of tuples\n",
    "x, y = zip(*lists) # unpack a list of pairs into two tuples\n",
    "print x\n",
    "print y\n",
    "plt.plot(x, y)\n",
    "plt.gca().invert_xaxis()\n",
    "plt.xlim(0.5, 0.01)  # decreasing time\n",
    "plt.xlabel('decreasing alpha')\n",
    "plt.ylabel('accuracy')\n",
    "plt.title('Accuracy changes according to alpha')\n",
    "plt.grid(True)\n",
    "\n",
    "plt.show()"
   ]
  },
  {
   "cell_type": "code",
   "execution_count": 79,
   "metadata": {
    "collapsed": true
   },
   "outputs": [],
   "source": [
    "metrics_dict = {}"
   ]
  },
  {
   "cell_type": "code",
   "execution_count": 80,
   "metadata": {
    "collapsed": false
   },
   "outputs": [
    {
     "name": "stdout",
     "output_type": "stream",
     "text": [
      "alpha= =1\n",
      "training time:  0:00:00.171782\n",
      "testing time:  0:00:00.113656\n",
      "classification report: \n",
      "\"             precision    recall  f1-score   support\n",
      "\n",
      "    du-lich       0.88      0.70      0.78      1578\n",
      "   giai-tri       0.94      0.95      0.95      1830\n",
      "   giao-duc       0.88      0.65      0.75      1687\n",
      "   khoa-hoc       0.85      0.74      0.79      1760\n",
      " kinh-doanh       0.78      0.89      0.83      1800\n",
      " oto-xe-may       0.57      0.90      0.70      1682\n",
      "  phap-luat       0.80      0.88      0.84      1800\n",
      "     so-hoa       0.94      0.74      0.83      1610\n",
      "   the-gioi       0.85      0.92      0.88      1792\n",
      "   the-thao       1.00      0.98      0.99      1830\n",
      "    thoi-su       0.79      0.71      0.75      1630\n",
      "\n",
      "avg / total       0.85      0.83      0.83     18999\n",
      "\"\n",
      "f1 score\n",
      "0.825508244972\n",
      "accuracy score\n",
      "0.827306700353\n",
      "confusion matrix:\n",
      "[[1098   23   13  105   52   93   17    4  105    0   68]\n",
      " [  12 1740   19    4    7    4   10    8   20    1    5]\n",
      " [   9   19 1094   24   48  383   49    9   12    0   40]\n",
      " [  10    3   31 1311   34  328    1    7   26    0    9]\n",
      " [  40    6   15    1 1597    1    8   36   11    1   84]\n",
      " [  30    4    9   15   58 1517    7   13   14    0   15]\n",
      " [   2    5    5    1   25  105 1580    0    5    0   72]\n",
      " [  11   17   27   33   71  126   49 1198   71    4    3]\n",
      " [   8   10    7   36   26   41   15    1 1641    0    7]\n",
      " [   0   15    3    2    4    2    1    0   16 1785    2]\n",
      " [  31    9   16    7  117   48  231    1   13    0 1157]]\n"
     ]
    },
    {
     "data": {
      "image/png": "[encoded data removed]",
      "text/plain": [
       "<matplotlib.figure.Figure at 0x109cd3750>"
      ]
     },
     "metadata": {},
     "output_type": "display_data"
    },
    {
     "name": "stdout",
     "output_type": "stream",
     "text": [
      "alpha= =0.75\n",
      "training time:  0:00:00.165053\n",
      "testing time:  0:00:00.114607\n",
      "classification report: \n",
      "\"             precision    recall  f1-score   support\n",
      "\n",
      "    du-lich       0.88      0.71      0.78      1578\n",
      "   giai-tri       0.94      0.95      0.95      1830\n",
      "   giao-duc       0.89      0.65      0.75      1687\n",
      "   khoa-hoc       0.86      0.75      0.80      1760\n",
      " kinh-doanh       0.79      0.89      0.83      1800\n",
      " oto-xe-may       0.58      0.90      0.70      1682\n",
      "  phap-luat       0.81      0.88      0.84      1800\n",
      "     so-hoa       0.94      0.75      0.83      1610\n",
      "   the-gioi       0.85      0.92      0.88      1792\n",
      "   the-thao       1.00      0.98      0.99      1830\n",
      "    thoi-su       0.79      0.72      0.76      1630\n",
      "\n",
      "avg / total       0.85      0.83      0.83     18999\n",
      "\"\n",
      "f1 score\n",
      "0.829414509645\n",
      "accuracy score\n",
      "0.831043739144\n",
      "confusion matrix:\n",
      "[[1119   22   14   97   47   92   17    4   98    0   68]\n",
      " [  13 1747   16    3    6    3    8    8   20    1    5]\n",
      " [  10   19 1103   24   46  373   49   10   12    0   41]\n",
      " [  10    3   30 1316   34  324    1    7   24    0   11]\n",
      " [  41    6   15    1 1595    1    8   36   11    1   85]\n",
      " [  32    4    9   15   57 1517    7   13   13    0   15]\n",
      " [   2    6    5    1   24  104 1579    0    5    0   74]\n",
      " [  11   16   27   32   70  124   48 1206   69    4    3]\n",
      " [   9   10    7   36   25   40   14    1 1643    0    7]\n",
      " [   0   15    3    2    4    2    1    0   16 1785    2]\n",
      " [  31    8   16    8  114   47  214    1   12    0 1179]]\n"
     ]
    },
    {
     "data": {
      "image/png": "[encoded data removed]",
      "text/plain": [
       "<matplotlib.figure.Figure at 0x10bb32590>"
      ]
     },
     "metadata": {},
     "output_type": "display_data"
    },
    {
     "name": "stdout",
     "output_type": "stream",
     "text": [
      "alpha= =0.5\n",
      "training time:  0:00:00.165289\n",
      "testing time:  0:00:00.119487\n",
      "classification report: \n",
      "\"             precision    recall  f1-score   support\n",
      "\n",
      "    du-lich       0.88      0.72      0.79      1578\n",
      "   giai-tri       0.94      0.96      0.95      1830\n",
      "   giao-duc       0.88      0.66      0.75      1687\n",
      "   khoa-hoc       0.86      0.75      0.80      1760\n",
      " kinh-doanh       0.79      0.88      0.84      1800\n",
      " oto-xe-may       0.58      0.90      0.71      1682\n",
      "  phap-luat       0.82      0.88      0.85      1800\n",
      "     so-hoa       0.94      0.75      0.83      1610\n",
      "   the-gioi       0.86      0.92      0.89      1792\n",
      "   the-thao       1.00      0.98      0.99      1830\n",
      "    thoi-su       0.79      0.74      0.77      1630\n",
      "\n",
      "avg / total       0.85      0.83      0.84     18999\n",
      "\"\n",
      "f1 score\n",
      "0.833138363531\n",
      "accuracy score\n",
      "0.834622874888\n",
      "confusion matrix:\n",
      "[[1142   21   14   93   44   88   16    3   95    0   62]\n",
      " [  13 1749   17    4    6    1    8    8   19    0    5]\n",
      " [  10   20 1112   24   45  363   48   10   12    0   43]\n",
      " [  11    3   30 1322   33  318    1    8   21    0   13]\n",
      " [  41    6   16    1 1589    1    8   37   11    1   89]\n",
      " [  33    5    9   15   55 1518    7   12   13    0   15]\n",
      " [   2    6    5    1   24  104 1576    0    4    0   78]\n",
      " [  12   17   28   32   69  119   47 1211   69    3    3]\n",
      " [   9   10    7   36   25   39   14    1 1644    0    7]\n",
      " [   0   16    4    2    3    2    1    0   15 1785    2]\n",
      " [  31    8   17    9  106   43  192    2   13    0 1209]]\n"
     ]
    },
    {
     "data": {
      "image/png": "[encoded data removed]",
      "text/plain": [
       "<matplotlib.figure.Figure at 0x10bb32e50>"
      ]
     },
     "metadata": {},
     "output_type": "display_data"
    },
    {
     "name": "stdout",
     "output_type": "stream",
     "text": [
      "alpha= =0.25\n",
      "training time:  0:00:00.175626\n",
      "testing time:  0:00:00.111576\n",
      "classification report: \n",
      "\"             precision    recall  f1-score   support\n",
      "\n",
      "    du-lich       0.88      0.74      0.80      1578\n",
      "   giai-tri       0.94      0.96      0.95      1830\n",
      "   giao-duc       0.89      0.67      0.77      1687\n",
      "   khoa-hoc       0.87      0.76      0.81      1760\n",
      " kinh-doanh       0.80      0.88      0.84      1800\n",
      " oto-xe-may       0.60      0.90      0.72      1682\n",
      "  phap-luat       0.83      0.88      0.85      1800\n",
      "     so-hoa       0.94      0.76      0.84      1610\n",
      "   the-gioi       0.87      0.92      0.89      1792\n",
      "   the-thao       1.00      0.98      0.99      1830\n",
      "    thoi-su       0.79      0.76      0.77      1630\n",
      "\n",
      "avg / total       0.86      0.84      0.84     18999\n",
      "\"\n",
      "f1 score\n",
      "0.839149353486\n",
      "accuracy score\n",
      "0.840517921996\n",
      "confusion matrix:\n",
      "[[1166   21   12   86   43   85   14    3   85    0   63]\n",
      " [  13 1752   17    4    6    1    6    7   19    0    5]\n",
      " [  10   19 1137   24   42  343   45   10   12    0   45]\n",
      " [  12    2   29 1336   31  306    1    8   20    0   15]\n",
      " [  40    7   16    0 1589    1    8   36   11    1   91]\n",
      " [  35    5    9   16   55 1513    7   13   14    0   15]\n",
      " [   1    7    6    1   22   99 1579    0    3    0   82]\n",
      " [  13   17   28   28   68  117   45 1224   64    3    3]\n",
      " [   9   10    7   32   24   36   11    1 1652    0   10]\n",
      " [   0   14    4    2    2    2    1    0   13 1790    2]\n",
      " [  32    8   14   10  100   38  181    2   14    0 1231]]\n"
     ]
    },
    {
     "data": {
      "image/png": "[encoded data removed]",
      "text/plain": [
       "<matplotlib.figure.Figure at 0x10d72ce90>"
      ]
     },
     "metadata": {},
     "output_type": "display_data"
    },
    {
     "name": "stdout",
     "output_type": "stream",
     "text": [
      "alpha= =0.1\n",
      "training time:  0:00:00.173870\n",
      "testing time:  0:00:00.115119\n",
      "classification report: \n",
      "\"             precision    recall  f1-score   support\n",
      "\n",
      "    du-lich       0.87      0.75      0.80      1578\n",
      "   giai-tri       0.94      0.96      0.95      1830\n",
      "   giao-duc       0.90      0.70      0.78      1687\n",
      "   khoa-hoc       0.87      0.77      0.82      1760\n",
      " kinh-doanh       0.81      0.89      0.85      1800\n",
      " oto-xe-may       0.61      0.90      0.73      1682\n",
      "  phap-luat       0.84      0.88      0.86      1800\n",
      "     so-hoa       0.94      0.77      0.85      1610\n",
      "   the-gioi       0.87      0.92      0.90      1792\n",
      "   the-thao       1.00      0.98      0.99      1830\n",
      "    thoi-su       0.79      0.77      0.78      1630\n",
      "\n",
      "avg / total       0.86      0.85      0.85     18999\n",
      "\"\n",
      "f1 score\n",
      "0.844959706992\n",
      "accuracy score\n",
      "0.846412969104\n",
      "confusion matrix:\n",
      "[[1179   20   11   84   40   84   12    4   80    0   64]\n",
      " [  16 1759   15    3    5    1    4    6   16    0    5]\n",
      " [  11   20 1174   25   38  306   45    9   12    0   47]\n",
      " [  13    2   26 1353   32  290    1    8   20    0   15]\n",
      " [  40    7   16    0 1596    0    8   33   11    1   88]\n",
      " [  37    6    7   17   55 1512    7   12   13    0   16]\n",
      " [   1    7    5    1   23   96 1577    0    2    0   88]\n",
      " [  15   18   28   30   66  110   39 1234   64    3    3]\n",
      " [  10   10    7   34   23   34   10    1 1654    0    9]\n",
      " [   1   13    4    2    1    2    0    0   10 1795    2]\n",
      " [  35    7   15   10   95   34  172    2   12    0 1248]]\n"
     ]
    },
    {
     "data": {
      "image/png": "[encoded data removed]",
      "text/plain": [
       "<matplotlib.figure.Figure at 0x10a5de150>"
      ]
     },
     "metadata": {},
     "output_type": "display_data"
    },
    {
     "name": "stdout",
     "output_type": "stream",
     "text": [
      "alpha= =0.075\n",
      "training time:  0:00:00.174975\n",
      "testing time:  0:00:00.110120\n",
      "classification report: \n",
      "\"             precision    recall  f1-score   support\n",
      "\n",
      "    du-lich       0.87      0.75      0.81      1578\n",
      "   giai-tri       0.94      0.96      0.95      1830\n",
      "   giao-duc       0.90      0.70      0.79      1687\n",
      "   khoa-hoc       0.87      0.77      0.82      1760\n",
      " kinh-doanh       0.81      0.89      0.85      1800\n",
      " oto-xe-may       0.62      0.90      0.73      1682\n",
      "  phap-luat       0.84      0.88      0.86      1800\n",
      "     so-hoa       0.94      0.77      0.85      1610\n",
      "   the-gioi       0.88      0.92      0.90      1792\n",
      "   the-thao       1.00      0.98      0.99      1830\n",
      "    thoi-su       0.79      0.77      0.78      1630\n",
      "\n",
      "avg / total       0.86      0.85      0.85     18999\n",
      "\"\n",
      "f1 score\n",
      "0.846788188014\n",
      "accuracy score\n",
      "0.848202536976\n",
      "confusion matrix:\n",
      "[[1191   20   10   80   40   84   12    4   75    0   62]\n",
      " [  15 1761   13    3    6    1    4    6   16    0    5]\n",
      " [  12   21 1181   25   38  299   44    8   12    0   47]\n",
      " [  14    2   24 1355   31  287    1    8   20    0   18]\n",
      " [  40    8   14    0 1598    0    8   33   11    1   87]\n",
      " [  37    6    7   17   55 1512    7   12   13    0   16]\n",
      " [   2    7    5    0   23   96 1576    0    2    0   89]\n",
      " [  16   18   28   31   66  107   38 1236   64    3    3]\n",
      " [  10   10    7   35   22   32   10    1 1656    0    9]\n",
      " [   1   13    3    2    2    2    0    0    9 1796    2]\n",
      " [  35    7   14   10   94   33  170    2   12    0 1253]]\n"
     ]
    },
    {
     "data": {
      "image/png": "[encoded data removed]",
      "text/plain": [
       "<matplotlib.figure.Figure at 0x10bb2cd90>"
      ]
     },
     "metadata": {},
     "output_type": "display_data"
    },
    {
     "name": "stdout",
     "output_type": "stream",
     "text": [
      "alpha= =0.05\n",
      "training time:  0:00:00.172408\n",
      "testing time:  0:00:00.111496\n",
      "classification report: \n",
      "\"             precision    recall  f1-score   support\n",
      "\n",
      "    du-lich       0.87      0.76      0.81      1578\n",
      "   giai-tri       0.94      0.96      0.95      1830\n",
      "   giao-duc       0.91      0.71      0.79      1687\n",
      "   khoa-hoc       0.87      0.77      0.82      1760\n",
      " kinh-doanh       0.81      0.89      0.85      1800\n",
      " oto-xe-may       0.62      0.90      0.74      1682\n",
      "  phap-luat       0.84      0.88      0.86      1800\n",
      "     so-hoa       0.94      0.77      0.85      1610\n",
      "   the-gioi       0.88      0.92      0.90      1792\n",
      "   the-thao       1.00      0.98      0.99      1830\n",
      "    thoi-su       0.79      0.77      0.78      1630\n",
      "\n",
      "avg / total       0.86      0.85      0.85     18999\n",
      "\"\n",
      "f1 score\n",
      "0.848668763712\n",
      "accuracy score\n",
      "0.850150007895\n",
      "confusion matrix:\n",
      "[[1195   17   10   82   40   82   12    4   74    0   62]\n",
      " [  15 1762   13    3    6    1    4    6   15    0    5]\n",
      " [  12   21 1193   27   37  285   45    9   11    0   47]\n",
      " [  14    2   23 1359   30  284    1    8   20    0   19]\n",
      " [  41    8   13    0 1601    0    8   32   11    1   85]\n",
      " [  37    6    7   17   54 1513    7   10   14    0   17]\n",
      " [   2    7    5    0   22   91 1581    0    2    0   90]\n",
      " [  16   20   29   32   66  104   38 1237   62    3    3]\n",
      " [  10   10    8   36   22   31   10    1 1655    0    9]\n",
      " [   1   14    2    2    2    2    0    0    9 1796    2]\n",
      " [  34    7   13   11   93   30  168    2   12    0 1260]]\n"
     ]
    },
    {
     "data": {
      "image/png": "[encoded data removed]",
      "text/plain": [
       "<matplotlib.figure.Figure at 0x10a79d650>"
      ]
     },
     "metadata": {},
     "output_type": "display_data"
    },
    {
     "name": "stdout",
     "output_type": "stream",
     "text": [
      "alpha= =0.025\n",
      "training time:  0:00:00.162682\n",
      "testing time:  0:00:00.112614\n",
      "classification report: \n",
      "\"             precision    recall  f1-score   support\n",
      "\n",
      "    du-lich       0.87      0.77      0.81      1578\n",
      "   giai-tri       0.94      0.96      0.95      1830\n",
      "   giao-duc       0.91      0.72      0.80      1687\n",
      "   khoa-hoc       0.87      0.77      0.82      1760\n",
      " kinh-doanh       0.81      0.89      0.85      1800\n",
      " oto-xe-may       0.64      0.90      0.74      1682\n",
      "  phap-luat       0.85      0.88      0.86      1800\n",
      "     so-hoa       0.95      0.77      0.85      1610\n",
      "   the-gioi       0.88      0.93      0.90      1792\n",
      "   the-thao       1.00      0.98      0.99      1830\n",
      "    thoi-su       0.79      0.78      0.78      1630\n",
      "\n",
      "avg / total       0.86      0.85      0.85     18999\n",
      "\"\n",
      "f1 score\n",
      "0.852170899178\n",
      "accuracy score\n",
      "0.853729143639\n",
      "confusion matrix:\n",
      "[[1208   15   11   77   40   80   12    3   69    0   63]\n",
      " [  16 1765   12    3    6    1    3    6   14    0    4]\n",
      " [  12   21 1216   28   37  262   43    9   11    0   48]\n",
      " [  15    2   24 1363   26  279    0    8   21    0   22]\n",
      " [  37   10   12    1 1607    0    8   30   11    1   83]\n",
      " [  37    6    7   19   52 1511    7   10   14    1   18]\n",
      " [   2    7    4    0   22   87 1586    0    2    0   90]\n",
      " [  16   22   29   32   68  100   35 1240   61    3    4]\n",
      " [  10   10    8   36   22   27    9    1 1661    0    8]\n",
      " [   1   13    2    2    2    1    0    0    9 1798    2]\n",
      " [  36    7   13   11   90   28  166    2   12    0 1265]]\n"
     ]
    },
    {
     "data": {
      "image/png": "[encoded data removed]",
      "text/plain": [
       "<matplotlib.figure.Figure at 0x10b986fd0>"
      ]
     },
     "metadata": {},
     "output_type": "display_data"
    },
    {
     "name": "stdout",
     "output_type": "stream",
     "text": [
      "alpha= =0.01\n",
      "training time:  0:00:00.152957\n",
      "testing time:  0:00:00.108350\n",
      "classification report: \n",
      "\"             precision    recall  f1-score   support\n",
      "\n",
      "    du-lich       0.87      0.77      0.82      1578\n",
      "   giai-tri       0.94      0.97      0.95      1830\n",
      "   giao-duc       0.91      0.73      0.81      1687\n",
      "   khoa-hoc       0.87      0.78      0.82      1760\n",
      " kinh-doanh       0.82      0.90      0.86      1800\n",
      " oto-xe-may       0.65      0.90      0.75      1682\n",
      "  phap-luat       0.85      0.88      0.87      1800\n",
      "     so-hoa       0.95      0.77      0.85      1610\n",
      "   the-gioi       0.88      0.93      0.91      1792\n",
      "   the-thao       1.00      0.98      0.99      1830\n",
      "    thoi-su       0.79      0.78      0.79      1630\n",
      "\n",
      "avg / total       0.87      0.86      0.86     18999\n",
      "\"\n",
      "f1 score\n",
      "0.855460667558\n",
      "accuracy score\n",
      "0.857097741986\n",
      "confusion matrix:\n",
      "[[1220   16   11   74   39   78   12    2   65    0   61]\n",
      " [  16 1766   12    3    5    1    3    6   14    0    4]\n",
      " [  12   25 1235   31   35  239   42    8   11    0   49]\n",
      " [  15    2   23 1372   26  269    0    8   22    0   23]\n",
      " [  34   10   12    1 1614    0    9   29    9    1   81]\n",
      " [  39    6    6   19   54 1508    5   10   16    1   18]\n",
      " [   2    8    4    1   21   83 1589    0    2    0   90]\n",
      " [  20   22   28   35   69   97   33 1242   57    3    4]\n",
      " [  11   10    8   36   20   26    8    1 1666    0    6]\n",
      " [   1   13    1    2    2    1    0    0    9 1799    2]\n",
      " [  38    7   12   12   88   26  160    2   12    0 1273]]\n"
     ]
    },
    {
     "data": {
      "image/png": "[encoded data removed]",
      "text/plain": [
       "<matplotlib.figure.Figure at 0x10a4715d0>"
      ]
     },
     "metadata": {},
     "output_type": "display_data"
    },
    {
     "name": "stdout",
     "output_type": "stream",
     "text": [
      "alpha= =0.005\n",
      "training time:  0:00:00.164343\n",
      "testing time:  0:00:00.111140\n",
      "classification report: \n",
      "\"             precision    recall  f1-score   support\n",
      "\n",
      "    du-lich       0.86      0.78      0.82      1578\n",
      "   giai-tri       0.94      0.97      0.95      1830\n",
      "   giao-duc       0.92      0.74      0.82      1687\n",
      "   khoa-hoc       0.86      0.78      0.82      1760\n",
      " kinh-doanh       0.82      0.90      0.86      1800\n",
      " oto-xe-may       0.66      0.90      0.76      1682\n",
      "  phap-luat       0.86      0.89      0.87      1800\n",
      "     so-hoa       0.95      0.77      0.85      1610\n",
      "   the-gioi       0.89      0.93      0.91      1792\n",
      "   the-thao       1.00      0.98      0.99      1830\n",
      "    thoi-su       0.79      0.79      0.79      1630\n",
      "\n",
      "avg / total       0.87      0.86      0.86     18999\n",
      "\"\n",
      "f1 score\n",
      "0.857397603611\n",
      "accuracy score\n",
      "0.859150481604\n",
      "confusion matrix:\n",
      "[[1224   17   11   76   38   75   10    2   67    0   58]\n",
      " [  16 1769   11    3    6    1    3    4   13    0    4]\n",
      " [  12   26 1242   35   35  224   44    8   12    0   49]\n",
      " [  15    2   22 1375   27  265    0    8   23    0   23]\n",
      " [  35   10   11    1 1617    0   10   29    8    1   78]\n",
      " [  38    6    6   19   54 1509    5    9   16    1   19]\n",
      " [   2    8    3    1   21   80 1594    0    2    0   89]\n",
      " [  21   24   28   35   71   95   32 1241   56    3    4]\n",
      " [  13   10    8   35   20   26    6    1 1667    0    6]\n",
      " [   1   12    1    3    1    1    0    0    7 1802    2]\n",
      " [  39    7   13   12   85   23  154    2   12    0 1283]]\n"
     ]
    },
    {
     "data": {
      "image/png": "[encoded data removed]",
      "text/plain": [
       "<matplotlib.figure.Figure at 0x10d703dd0>"
      ]
     },
     "metadata": {},
     "output_type": "display_data"
    },
    {
     "name": "stdout",
     "output_type": "stream",
     "text": [
      "alpha= =0.001\n",
      "training time:  0:00:00.160364\n",
      "testing time:  0:00:00.112487\n",
      "classification report: \n",
      "\"             precision    recall  f1-score   support\n",
      "\n",
      "    du-lich       0.86      0.78      0.82      1578\n",
      "   giai-tri       0.93      0.97      0.95      1830\n",
      "   giao-duc       0.92      0.76      0.83      1687\n",
      "   khoa-hoc       0.86      0.79      0.82      1760\n",
      " kinh-doanh       0.82      0.90      0.86      1800\n",
      " oto-xe-may       0.68      0.90      0.77      1682\n",
      "  phap-luat       0.86      0.89      0.88      1800\n",
      "     so-hoa       0.95      0.77      0.85      1610\n",
      "   the-gioi       0.89      0.93      0.91      1792\n",
      "   the-thao       1.00      0.99      0.99      1830\n",
      "    thoi-su       0.80      0.79      0.80      1630\n",
      "\n",
      "avg / total       0.87      0.86      0.86     18999\n",
      "\"\n",
      "f1 score\n",
      "0.86209741439\n",
      "accuracy score\n",
      "0.863992841729\n",
      "confusion matrix:\n",
      "[[1238   18   12   69   35   70    9    2   66    0   59]\n",
      " [  15 1775   10    2    6    1    2    4   11    0    4]\n",
      " [  11   27 1275   40   34  182   45    8   11    0   54]\n",
      " [  18    2   22 1386   26  251    0    8   26    0   21]\n",
      " [  35   12   10    1 1620    0    9   29    8    1   75]\n",
      " [  38    6    8   20   51 1510    6    8   17    1   17]\n",
      " [   1    9    3    1   23   72 1599    0    2    0   90]\n",
      " [  28   23   27   35   71   89   29 1247   55    2    4]\n",
      " [  13    9    9   38   20   25    4    1 1667    0    6]\n",
      " [   1   12    1    2    1    1    0    0    7 1803    2]\n",
      " [  39    7   14    9   83   19  151    2   11    0 1295]]\n"
     ]
    },
    {
     "data": {
      "image/png": "[encoded data removed]",
      "text/plain": [
       "<matplotlib.figure.Figure at 0x10a1abed0>"
      ]
     },
     "metadata": {},
     "output_type": "display_data"
    }
   ],
   "source": [
    "#Tuning Parameter\n",
    "alpha=[1,0.75,0.5,0.25,0.1,0.075,0.05,0.025,0.01,0.005,0.001]\n",
    "\n",
    "for a in alpha:\n",
    "    print \"alpha= =\" + str(a)\n",
    "    bnb = BernoulliNB(a)\n",
    "    bnb_me = testClassifier(train_mat, train_lbl, test_mat, test_lbl, bnb)\n",
    "    metrics_dict.update({a:bnb_me})\n"
   ]
  },
  {
   "cell_type": "code",
   "execution_count": 81,
   "metadata": {
    "collapsed": false
   },
   "outputs": [
    {
     "name": "stdout",
     "output_type": "stream",
     "text": [
      "(0.001, 0.005, 0.01, 0.025, 0.05, 0.075, 0.1, 0.25, 0.5, 0.75, 1)\n",
      "(0.86399284172851198, 0.85915048160429497, 0.8570977419864203, 0.85372914363913888, 0.85015000789515238, 0.84820253697563031, 0.84641296910363706, 0.84051792199589448, 0.83462287488815201, 0.83104373914416552, 0.82730670035265019)\n"
     ]
    },
    {
     "data": {
      "image/png": "[encoded data removed]",
      "text/plain": [
       "<matplotlib.figure.Figure at 0x10a532490>"
      ]
     },
     "metadata": {},
     "output_type": "display_data"
    }
   ],
   "source": [
    "lists = sorted(metrics_dict.items()) # sorted by key, return a list of tuples\n",
    "x, y = zip(*lists) # unpack a list of pairs into two tuples\n",
    "print x\n",
    "print y\n",
    "plt.plot(x, y)\n",
    "plt.gca().invert_xaxis()\n",
    "plt.xlim(1, 0.001)  # decreasing time\n",
    "plt.ylim(0.8, 0.9)\n",
    "plt.xlabel('decreasing alpha')\n",
    "plt.ylabel('accuracy')\n",
    "plt.title('Accuracy changes according to alpha')\n",
    "plt.grid(True)\n",
    "\n",
    "plt.show()"
   ]
  },
  {
   "cell_type": "code",
   "execution_count": null,
   "metadata": {
    "collapsed": true
   },
   "outputs": [],
   "source": []
  },
  {
   "cell_type": "code",
   "execution_count": null,
   "metadata": {
    "collapsed": true
   },
   "outputs": [],
   "source": []
  },
  {
   "cell_type": "code",
   "execution_count": null,
   "metadata": {
    "collapsed": true
   },
   "outputs": [],
   "source": []
  },
  {
   "cell_type": "code",
   "execution_count": null,
   "metadata": {
    "collapsed": true
   },
   "outputs": [],
   "source": []
  }
 ],
 "metadata": {
  "kernelspec": {
   "display_name": "Python 2",
   "language": "python",
   "name": "python2"
  },
  "language_info": {
   "codemirror_mode": {
    "name": "ipython",
    "version": 2
   },
   "file_extension": ".py",
   "mimetype": "text/x-python",
   "name": "python",
   "nbconvert_exporter": "python",
   "pygments_lexer": "ipython2",
   "version": "2.7.13"
  }
 },
 "nbformat": 4,
 "nbformat_minor": 2
}
